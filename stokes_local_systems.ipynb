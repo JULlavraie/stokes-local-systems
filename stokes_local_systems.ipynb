{
 "cells": [
  {
   "cell_type": "markdown",
   "id": "f406d3f8",
   "metadata": {},
   "source": [
    "# Code for Stokes Local Systems\n",
    "\n",
    "\n",
    "Here's some code-in-progress for visualizing and exploring moduli spaces of irregular local systems for GLn. \n",
    "\n",
    "## TODO:\n",
    "- [ ] Find Stablizers\n",
    "- [ ] Find filtrations\n",
    "- [ ] Compute Stokes and Anti-Stokes directions\n",
    "- [ ] Make Pretty Graphs\n"
   ]
  },
  {
   "cell_type": "code",
   "execution_count": 144,
   "id": "8f5832fd",
   "metadata": {},
   "outputs": [],
   "source": [
    "def get_weight_function(Q,alpha,Laurent_ring=LaurentPolynomialRing(QQ,'z')):\n",
    "    \"\"\"\n",
    "    Given a singularity type Q,\n",
    "    and root alpha, returns the function \n",
    "    defined by their composition.\n",
    "    \n",
    "    Inputs:\n",
    "    Q dictionary {int: matrix} - defines the singularity type. Az^-1 + Bz^-3 should be written {-1:A,-3:B}\n",
    "    alpha (function) - the weight, should be a function that accepts A as its only argument\n",
    "    Laurent_ring -- where alpha takes values. QQ[z,z^(-1)] by default.\n",
    "    \n",
    "    Output:\n",
    "    Laurent_ring.element - what's written alpha(Q) in Boalch's Geometry and Braiding of Stokes Data pg. 331\n",
    "    \n",
    "    Example:\n",
    "    alpha_01 = lambda A : matrix(A)[0,0]-matrix(A)[1,1]\n",
    "    Q = {-1:diagonal_matrix([1,1,2]), -3:diagonal_matrix([1,2,2])} \n",
    "    \n",
    "    get_weight_function(Q,alpha_01)\n",
    "    \n",
    "    \"\"\"\n",
    "    z = Laurent_ring.gen()\n",
    "    return Laurent_ring.sum([Laurent_ring(alpha(v))*z^(k) for k,v in Q.items()])\n",
    "    \n",
    "def get_root(i):\n",
    "    \"\"\"\n",
    "    This little function gets around python's poor\n",
    "    behavior of list comphrension of lambdas\n",
    "    \n",
    "    Input:\n",
    "    i int -- we want the i,i+1 weight.\n",
    "    \n",
    "    Output:\n",
    "    lambda\n",
    "    \"\"\"\n",
    "    return lambda A : A[i,i]-A[i+1,i+1]\n",
    "\n",
    "def get_simple_roots(rank):\n",
    "    \"\"\"\n",
    "    Gets the list of simple roots for Gln\n",
    "    \n",
    "    Input:\n",
    "    rank int - the rank n\n",
    "    \n",
    "    Output list[lambda] - a list of lambdas implementing the simple roots.\n",
    "    \n",
    "    Example:\n",
    "    the_roots = get_simple_roots(4)\n",
    "    [alpha(diagonal_matrix([3,1,1,6])) for alpha in the_roots]\n",
    "    > [2, 0, -5]\n",
    "    \n",
    "    this is [3-1, 1-1, 1-6]\n",
    "    \"\"\"\n",
    "    return [get_root(i) for i in range(rank-1)]\n",
    "\n",
    "def get_all_simple_root_functions(Q,Laurent_ring=LaurentPolynomialRing(QQ,'z')):\n",
    "    \"\"\"\n",
    "    Gets the list of simple root functions for a given singularity type Q.\n",
    "    \n",
    "    Input:\n",
    "    Q dict {int: matrix} -- the singularity type. the keys are the powers of z and the matrices are their coefficients.\n",
    "    Laurent_ring -- what ring we want the root function to take values in. QQ[z,z^-1] by default.\n",
    "    \n",
    "    Example:\n",
    "    Q = {-1:diagonal_matrix([5,4,1,2]), -3:diagonal_matrix([1,1,3,2])}\n",
    "    get_all_simple_root_functions(Q)\n",
    "    > [z^-1, -2*z^-3 + 3*z^-1, z^-3 - z^-1]\n",
    "    \"\"\"\n",
    "    \n",
    "    rank = matrix(list(Q.values())[0]).rank()\n",
    "    simple_roots = get_simple_roots(rank)\n",
    "    \n",
    "    return [get_weight_function(Q,alpha,Laurent_ring=Laurent_ring) for alpha in simple_roots]"
   ]
  },
  {
   "cell_type": "code",
   "execution_count": 149,
   "id": "5976b677",
   "metadata": {},
   "outputs": [
    {
     "data": {
      "text/plain": [
       "[z^-1, -2*z^-3 + 3*z^-1, z^-3 - z^-1]"
      ]
     },
     "execution_count": 149,
     "metadata": {},
     "output_type": "execute_result"
    }
   ],
   "source": [
    "Q = {-1:diagonal_matrix([5,4,1,2]), -3:diagonal_matrix([1,1,3,2])}\n",
    "get_all_simple_root_functions(Q)"
   ]
  },
  {
   "cell_type": "markdown",
   "id": "908fd5db",
   "metadata": {},
   "source": [
    "SCRATCH -- Trying to use more fancy Sage Code\n",
    "--------------------------------------"
   ]
  },
  {
   "cell_type": "code",
   "execution_count": 60,
   "id": "beefe77a",
   "metadata": {},
   "outputs": [],
   "source": [
    "def construct_diagonal_matrix_space(rank,base_ring)\n",
    "\"\"\"\n",
    "Builds the space of rank by rank diagonal matrices over base_ring.\n",
    "\"\"\"\n",
    "    MS = MatrixSpace(QQ,rank,rank)\n",
    "    gens_list = [MS.diagonal_matrix([0]*i+[1]+[0]*(rank-i-1)) for i in range(rank)]\n",
    "    return MS.submodule(gens_list)\n"
   ]
  },
  {
   "cell_type": "code",
   "execution_count": 75,
   "id": "07ea1ddc",
   "metadata": {},
   "outputs": [],
   "source": [
    "elem = DS.from_vector(vector([1,2,3]))"
   ]
  },
  {
   "cell_type": "code",
   "execution_count": 76,
   "id": "0805703e",
   "metadata": {},
   "outputs": [
    {
     "data": {
      "text/plain": [
       "-1"
      ]
     },
     "execution_count": 76,
     "metadata": {},
     "output_type": "execute_result"
    }
   ],
   "source": [
    "alpha_ij(elem.lift(),1,2)"
   ]
  },
  {
   "cell_type": "code",
   "execution_count": 77,
   "id": "53177e90",
   "metadata": {},
   "outputs": [
    {
     "data": {
      "text/plain": [
       "<class 'sage.modules.with_basis.subquotient.SubmoduleWithBasis_with_category'>"
      ]
     },
     "execution_count": 77,
     "metadata": {},
     "output_type": "execute_result"
    }
   ],
   "source": [
    "DS.__class__"
   ]
  },
  {
   "cell_type": "code",
   "execution_count": null,
   "id": "c2ecffd0",
   "metadata": {},
   "outputs": [],
   "source": []
  }
 ],
 "metadata": {
  "kernelspec": {
   "display_name": "SageMath 9.5",
   "language": "sage",
   "name": "sagemath"
  },
  "language_info": {
   "codemirror_mode": {
    "name": "ipython",
    "version": 3
   },
   "file_extension": ".py",
   "mimetype": "text/x-python",
   "name": "python",
   "nbconvert_exporter": "python",
   "pygments_lexer": "ipython3",
   "version": "3.10.12"
  },
  "varInspector": {
   "cols": {
    "lenName": 16,
    "lenType": 16,
    "lenVar": 40
   },
   "kernels_config": {
    "python": {
     "delete_cmd_postfix": "",
     "delete_cmd_prefix": "del ",
     "library": "var_list.py",
     "varRefreshCmd": "print(var_dic_list())"
    },
    "r": {
     "delete_cmd_postfix": ") ",
     "delete_cmd_prefix": "rm(",
     "library": "var_list.r",
     "varRefreshCmd": "cat(var_dic_list()) "
    }
   },
   "types_to_exclude": [
    "module",
    "function",
    "builtin_function_or_method",
    "instance",
    "_Feature"
   ],
   "window_display": false
  }
 },
 "nbformat": 4,
 "nbformat_minor": 5
}
